{
 "cells": [
  {
   "cell_type": "code",
   "execution_count": 1,
   "id": "8f06b2a4-e01b-4778-be37-32a200feaf5b",
   "metadata": {},
   "outputs": [],
   "source": [
    "import h5py\n",
    "import numpy as np\n",
    "from scipy.ndimage import label\n",
    "import neuroglancer"
   ]
  },
  {
   "cell_type": "code",
   "execution_count": 2,
   "id": "260101f3-5f1c-49b6-88c2-a6343e0c04db",
   "metadata": {},
   "outputs": [],
   "source": [
    "# ------------------ Load HDF5 Volumes ------------------\n",
    "\n",
    "with h5py.File('../ffn/third_party/karlupia/image_volume.h5', 'r') as f:\n",
    "    raw = np.squeeze(f['raw'][...])  # Expected dtype: uint8\n",
    "\n",
    "with h5py.File('../ffn/third_party/karlupia/label_volume.h5', 'r') as f:\n",
    "    labels = np.squeeze(f['labels'][...])  # Expected dtype: int64"
   ]
  },
  {
   "cell_type": "code",
   "execution_count": 4,
   "id": "6a0e3c5e-7032-458e-b8f4-ef39d224760a",
   "metadata": {},
   "outputs": [
    {
     "name": "stdout",
     "output_type": "stream",
     "text": [
      "Neuroglancer is ready! Visit: http://ip-172-31-64-154.ec2.internal:35000/v/d98d31218ab35caec1747c6fad5faf1c86640481/\n"
     ]
    }
   ],
   "source": [
    "# ------------------ Preprocess for Neuroglancer ------------------\n",
    "\n",
    "# Neuroglancer expects volumes in X, Y, Z order (we transpose from Z, Y, X)\n",
    "# raw_ng = np.transpose(raw, (2, 1, 0))\n",
    "# labels_ng = np.transpose(labels, (2, 1, 0))\n",
    "\n",
    "# Optional: isolate one segment as a binary seed mask, then relabel\n",
    "# This mimics what you're doing with `cv.seed > 0` in your example\n",
    "# Here, we treat nonzero label regions as a single connected component\n",
    "#seg = (label(labels_ng > 0)[0] == 1).astype(np.uint64)\n",
    "\n",
    "# ------------------ Neuroglancer Setup ------------------\n",
    "\n",
    "neuroglancer.set_server_bind_address('0.0.0.0', bind_port=35000)  # to access externally if needed\n",
    "\n",
    "# Set voxel resolution (update if yours differs!)\n",
    "dimensions = neuroglancer.CoordinateSpace(\n",
    "    names=['x', 'y', 'z'],\n",
    "    units='nm',\n",
    "    scales=[8, 8, 30],  # Modify to match your voxel spacing\n",
    ")\n",
    "\n",
    "viewer = neuroglancer.Viewer()\n",
    "\n",
    "with viewer.txn() as s:\n",
    "    s.dimensions = dimensions\n",
    "\n",
    "    # Add raw image layer (already scaled and uint8 from preprocessing)\n",
    "    s.layers['raw'] = neuroglancer.ImageLayer(\n",
    "        source=neuroglancer.LocalVolume(raw, dimensions=dimensions)\n",
    "    )\n",
    "\n",
    "    # Add segmentation layer\n",
    "    s.layers['seg'] = neuroglancer.SegmentationLayer(\n",
    "        source=neuroglancer.LocalVolume(labels, dimensions=dimensions),\n",
    "    )\n",
    "\n",
    "print(f\"Neuroglancer is ready! Visit: {viewer}\")"
   ]
  },
  {
   "cell_type": "code",
   "execution_count": null,
   "id": "d919b776-40a7-47b6-a0b8-82e728e0250f",
   "metadata": {},
   "outputs": [],
   "source": []
  }
 ],
 "metadata": {
  "kernelspec": {
   "display_name": "etl",
   "language": "python",
   "name": "etl"
  },
  "language_info": {
   "codemirror_mode": {
    "name": "ipython",
    "version": 3
   },
   "file_extension": ".py",
   "mimetype": "text/x-python",
   "name": "python",
   "nbconvert_exporter": "python",
   "pygments_lexer": "ipython3",
   "version": "3.12.9"
  }
 },
 "nbformat": 4,
 "nbformat_minor": 5
}
